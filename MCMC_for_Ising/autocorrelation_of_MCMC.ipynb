{
 "cells": [
  {
   "cell_type": "markdown",
   "metadata": {},
   "source": [
    "# Monte Calro simulation of the 2d Ising model\n",
    "\n",
    "In this code that simulates 2d Ising model on the square lattice, Hmiltonian is given by\n",
    "$$ H = -j \\sum_{\\langle i,j \\rangle} s_i s_j -h \\sum_i s_i ,$$\n",
    "where $s_i = \\pm 1$."
   ]
  },
  {
   "cell_type": "markdown",
   "metadata": {},
   "source": [
    "I will implement to three simulation algorithms :\n",
    "<ul>\n",
    "<li>metropolis</li>\n",
    "<li>heatbath</li>\n",
    "<li>cluster(Swendsen-Wang)</li>\n",
    "\n",
    "The main outputs are:\n",
    "* Energy: $\\langle E\\rangle = \\langle H\\rangle/N$.\n",
    "* squared magnetization: $\\langle M^2\\rangle = \\langle(\\sum_i s_i)^2\\rangle/N^2$\n",
    "* Specific heat: $N(\\langle E^2\\rangle - \\langle E\\rangle^2)/T^2$\n",
    "* Magnetic susceptibility: $N(\\langle M^2\\rangle)/T$ (It is correct only for $h=0$)\n",
    "* Binder ratio: $\\langle M^4\\rangle/\\langle M^2\\rangle^2$"
   ]
  },
  {
   "cell_type": "code",
   "execution_count": null,
   "metadata": {},
   "outputs": [],
   "source": [
    "\n"
   ]
  },
  {
   "cell_type": "code",
   "execution_count": null,
   "metadata": {},
   "outputs": [],
   "source": []
  }
 ],
 "metadata": {
  "kernelspec": {
   "display_name": "base",
   "language": "python",
   "name": "python3"
  },
  "language_info": {
   "codemirror_mode": {
    "name": "ipython",
    "version": 3
   },
   "file_extension": ".py",
   "mimetype": "text/x-python",
   "name": "python",
   "nbconvert_exporter": "python",
   "pygments_lexer": "ipython3",
   "version": "3.11.7"
  }
 },
 "nbformat": 4,
 "nbformat_minor": 2
}
