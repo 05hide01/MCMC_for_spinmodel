{
 "cells": [
  {
   "cell_type": "markdown",
   "metadata": {},
   "source": [
    "# Monte Calro simulation of the 2d Ising model\n",
    "\n",
    "In this code that simulates 2d Ising model on the square lattice, Hmiltonian is given by\n",
    "$$ H = -j \\sum_{\\langle i,j \\rangle} s_i s_j -h \\sum_i s_i ,$$\n",
    "where $s_i = \\pm 1$."
   ]
  },
  {
   "cell_type": "markdown",
   "metadata": {},
   "source": [
    "I will implement to three simulation algorithms :\n",
    "<ul>\n",
    "<li>metropolis</li>\n",
    "<li>heatbath</li>\n",
    "<li>cluster(Swendsen-Wang)</li>\n",
    "\n",
    "The main outputs are:\n",
    "* Energy: $\\langle E\\rangle = \\langle H\\rangle/N$.\n",
    "* squared magnetization: $\\langle M^2\\rangle = \\langle(\\sum_i s_i)^2\\rangle/N^2$\n",
    "* Specific heat: $N(\\langle E^2\\rangle - \\langle E\\rangle^2)/T^2$\n",
    "* Magnetic susceptibility: $N(\\langle M^2\\rangle)/T$ (It is correct only for $h=0$)\n",
    "* Binder ratio: $\\langle M^4\\rangle/\\langle M^2\\rangle^2$"
   ]
  },
  {
   "cell_type": "markdown",
   "metadata": {},
   "source": [
    "The code will make graphs of \n",
    "* Dynamics of physical quantities\n",
    "* Auto-corelations of them\n",
    "\n",
    "By varying, system size $L$, the temperature $T$, the external magnetic field $h$, and the algorithm, let's see how the correlation times or erros in the expectations values change.\n",
    "\n",
    "### Parameters for MC simulations\n",
    "* themalizatoin: MC steps for thermalization, which is not used for calculating expectation values.\n",
    "* observation: MC steps for observation, which is used for calculating expectation values.\n",
    "* random_seed: Seed for random numbser generator. For the same random_seed, you always obtain the same result.\n",
    "\n",
    "### Parameters for auto correlations\n",
    "* correlation_time: The longest time (MC steps) for plotting the auto-correlation fuctions.\n",
    "    * In order to obtain more accurate auto correlation fuctions, you may need to increase \"observation\".\n"
   ]
  },
  {
   "cell_type": "code",
   "execution_count": null,
   "metadata": {},
   "outputs": [],
   "source": [
    "import numpy as np\n",
    "from Ising_lib import *\n",
    "from matplotlib import pyplot"
   ]
  },
  {
   "cell_type": "code",
   "execution_count": null,
   "metadata": {},
   "outputs": [],
   "source": [
    "\n"
   ]
  },
  {
   "cell_type": "code",
   "execution_count": null,
   "metadata": {},
   "outputs": [],
   "source": []
  }
 ],
 "metadata": {
  "kernelspec": {
   "display_name": "base",
   "language": "python",
   "name": "python3"
  },
  "language_info": {
   "codemirror_mode": {
    "name": "ipython",
    "version": 3
   },
   "file_extension": ".py",
   "mimetype": "text/x-python",
   "name": "python",
   "nbconvert_exporter": "python",
   "pygments_lexer": "ipython3",
   "version": "3.11.7"
  }
 },
 "nbformat": 4,
 "nbformat_minor": 2
}
